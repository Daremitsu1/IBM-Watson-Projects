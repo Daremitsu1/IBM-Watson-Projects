{
 "cells": [
  {
   "cell_type": "markdown",
   "metadata": {},
   "source": [
    "## 1. Read in Resume"
   ]
  },
  {
   "cell_type": "code",
   "execution_count": null,
   "metadata": {},
   "outputs": [],
   "source": [
    "# Install dependices\n",
    "!pip install PyPDF2"
   ]
  },
  {
   "cell_type": "code",
   "execution_count": 1,
   "metadata": {},
   "outputs": [],
   "source": [
    "import PyPDF2"
   ]
  },
  {
   "cell_type": "code",
   "execution_count": 2,
   "metadata": {},
   "outputs": [],
   "source": [
    "resume_file_path = './Aviparna Biswas - Resume.pdf'\n",
    "filehandle = open(resume_file_path, 'rb')"
   ]
  },
  {
   "cell_type": "code",
   "execution_count": 3,
   "metadata": {},
   "outputs": [],
   "source": [
    "pdfReader = PyPDF2.PdfFileReader(filehandle)\n",
    "pageHandle = pdfReader.getPage(0)\n",
    "text = pageHandle.extractText()\n",
    "text = text.replace('o ', '')\n",
    "text = text.replace('|', '')"
   ]
  },
  {
   "cell_type": "code",
   "execution_count": 4,
   "metadata": {},
   "outputs": [
    {
     "data": {
      "text/plain": [
       "\"AVIPARNA BISWAS\\n \\nLEAD PRODUCT ANALYST\\n \\n \\nPERSONAL INFO\\n \\nPHONE: +\\n91\\n-\\n9883777784\\n \\nEMAIL: \\naviparnab@gmail.com\\n \\nWEBSITE: \\nhttps://www.linkedin.com/in/aviparna\\n-\\nbiswas\\n-\\n678822171/\\n \\n \\n \\nCAREER SUMMARY\\n \\nI'm a \\nLead Product Analyst\\n \\nwith over \\n3\\n \\nyears of exper\\nience\\n \\nin the \\nInformation Technology Sector\\n. I \\nanalyze operational needs and \\ndevelop\\n \\nsolutions tsave costs, improve revenues, and drive \\ncustomer satisfaction. I am resourceful and well\\n-\\norganized with excellent leadership and team \\nbuilding q\\nualities, working well under pressure and never shying away from a challenge. \\n \\nI also\\n \\nhave a strong attention tdetail and an ability twork in a fast\\n-\\npaced and ever\\n-\\nchanging \\nenvironment\\n.\\n \\n\\n \\ncore initiative and business \\nvalues and translate those inteveryday practices. \\n \\n \\n \\nPROFESSIONAL EXPERIENCE\\n \\nNexval Infotech Private Limited (Dec 2018 \\n\\n \\nPresent)\\n \\nLead Product\\n \\nAnalyst\\n \\nPython, R, Excel, Tableau, \\nHadoop\\n, \\nHive\\n,\\n \\nHBase, Flume,\\n \\nJira, Rally, Confluence.\\n \\n\\n \\nWork with stakeholders throughout the organization tidentify opportunities for leveraging \\ncompany data tdrive business solutions.\\n \\n\\n \\nAs a client support, I have demonstrated history in working with the client tunderstand their\\n \\nproblems as well as being able twork with development team tsolve the queries.\\n \\n\\n \\nAnalytical mindset and ability tsee the big picture and influence others.\\n \\n\\n \\nReporting of key insight trends, using statistical analysis tsimplify and inform the stakehold\\ners \\nof noteworthy story lines.\\n \\n\\n \\nAssess the effectiveness and accuracy of new data sources and data gathering techniques.\\n \\n\\n \\nRespond with urgency thigh priority requests from senior business leaders\\n.\\n \\n\\n \\nUse predictive modelling tincrease and optimize customer \\nexperiences, revenue generation, \\nad targeting and other business outcomes.\\n \\n\\n \\nCreate\\nd\\n \\nmodels that optimize the resources, inputs & outputs of risk operations business.\\n \\n\\n \\nCoordinate with different functional teams timplement models and monitor outcomes.\\n \\n\\n \\nDevelo\\np processes and tools tmonitor and analyse model performance and data accuracy.\\n \\n\\n \\nDeploying analytics solutions and enable tracking of business outcomes.\\n \\n\\n \\nHands\\n-\\non experience on managing complex and diverse data sources on a regular basis\\n.\\n \\n\\n \\nIdentify, develop, manage, and execute analyses tuncover areas of opportunity and present \\nwritten business recommendations that will help shape the direction of the business.\\n \\n\\n \\nOwn the design, development, and maintenance of ongoing metrics, reports, analy\\nses, \\ndashboards, etc. tdrive key business decisions.\\n \\n\""
      ]
     },
     "execution_count": 4,
     "metadata": {},
     "output_type": "execute_result"
    }
   ],
   "source": [
    "text"
   ]
  },
  {
   "cell_type": "markdown",
   "metadata": {},
   "source": [
    "## 2. Import and Authenticate to Service"
   ]
  },
  {
   "cell_type": "code",
   "execution_count": 5,
   "metadata": {},
   "outputs": [],
   "source": [
    "from ibm_watson import NaturalLanguageUnderstandingV1\n",
    "from ibm_cloud_sdk_core.authenticators import IAMAuthenticator"
   ]
  },
  {
   "cell_type": "code",
   "execution_count": 6,
   "metadata": {},
   "outputs": [],
   "source": [
    "apikey = 'yA2HkcPYyoIA2ilXh7qJ8_Pz68edUpTU1tAcAx2zFSIs'\n",
    "url = 'https://api.eu-gb.natural-language-understanding.watson.cloud.ibm.com/instances/3758908b-840c-48e3-9e5c-4aa207296c54'"
   ]
  },
  {
   "cell_type": "code",
   "execution_count": 8,
   "metadata": {},
   "outputs": [],
   "source": [
    "authenticator = IAMAuthenticator(apikey)\n",
    "personality_insights = NaturalLanguageUnderstandingV1(\n",
    "        version = '2017-10-13',\n",
    "        authenticator = authenticator\n",
    ")\n",
    "personality_insights.set_service_url(url)"
   ]
  },
  {
   "cell_type": "markdown",
   "metadata": {},
   "source": [
    "## 3. Extract Resume Personality Insights"
   ]
  },
  {
   "cell_type": "code",
   "execution_count": 9,
   "metadata": {},
   "outputs": [
    {
     "ename": "AttributeError",
     "evalue": "'NaturalLanguageUnderstandingV1' object has no attribute 'profile'",
     "output_type": "error",
     "traceback": [
      "\u001b[1;31m---------------------------------------------------------------------------\u001b[0m",
      "\u001b[1;31mAttributeError\u001b[0m                            Traceback (most recent call last)",
      "\u001b[1;32m<ipython-input-9-a16d9137b19e>\u001b[0m in \u001b[0;36m<module>\u001b[1;34m\u001b[0m\n\u001b[1;32m----> 1\u001b[1;33m \u001b[0mprofile\u001b[0m \u001b[1;33m=\u001b[0m \u001b[0mpersonality_insights\u001b[0m\u001b[1;33m.\u001b[0m\u001b[0mprofile\u001b[0m\u001b[1;33m(\u001b[0m\u001b[0mtext\u001b[0m\u001b[1;33m,\u001b[0m \u001b[0maccept\u001b[0m \u001b[1;33m=\u001b[0m \u001b[1;34m'application/json'\u001b[0m\u001b[1;33m)\u001b[0m\u001b[1;33m.\u001b[0m\u001b[0mget_result\u001b[0m\u001b[1;33m(\u001b[0m\u001b[1;33m)\u001b[0m\u001b[1;33m\u001b[0m\u001b[1;33m\u001b[0m\u001b[0m\n\u001b[0m\u001b[0;32m      2\u001b[0m \u001b[0mprofile\u001b[0m\u001b[1;33m\u001b[0m\u001b[1;33m\u001b[0m\u001b[0m\n",
      "\u001b[1;31mAttributeError\u001b[0m: 'NaturalLanguageUnderstandingV1' object has no attribute 'profile'"
     ]
    }
   ],
   "source": [
    "profile = personality_insights.profile(text, accept = 'application/json').get_result()\n",
    "profile"
   ]
  },
  {
   "cell_type": "markdown",
   "metadata": {},
   "source": [
    "## 4. Visualize"
   ]
  },
  {
   "cell_type": "code",
   "execution_count": null,
   "metadata": {},
   "outputs": [],
   "source": []
  }
 ],
 "metadata": {
  "kernelspec": {
   "display_name": "Python 3",
   "language": "python",
   "name": "python3"
  },
  "language_info": {
   "codemirror_mode": {
    "name": "ipython",
    "version": 3
   },
   "file_extension": ".py",
   "mimetype": "text/x-python",
   "name": "python",
   "nbconvert_exporter": "python",
   "pygments_lexer": "ipython3",
   "version": "3.9.4"
  }
 },
 "nbformat": 4,
 "nbformat_minor": 4
}
